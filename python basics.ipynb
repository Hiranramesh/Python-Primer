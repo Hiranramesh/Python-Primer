{
 "cells": [
  {
   "cell_type": "code",
   "execution_count": 13,
   "id": "0593b48c-a9c0-47bc-bed4-dd1d0656269f",
   "metadata": {},
   "outputs": [
    {
     "name": "stdout",
     "output_type": "stream",
     "text": [
      "hello , pyhton !\n"
     ]
    }
   ],
   "source": [
    "#print statement\n",
    "print(\"hello , pyhton !\") # display function , first step in python"
   ]
  },
  {
   "cell_type": "code",
   "execution_count": 9,
   "id": "6999429a-3497-4ed8-a6ad-6fafcf2aa5aa",
   "metadata": {},
   "outputs": [],
   "source": [
    "# assignment statement\n",
    "movie_name=\"The Iron Man\""
   ]
  },
  {
   "cell_type": "code",
   "execution_count": 11,
   "id": "0fa99463-7343-4f07-a342-fe96b5e5e8e4",
   "metadata": {},
   "outputs": [
    {
     "data": {
      "text/plain": [
       "'The Iron Man'"
      ]
     },
     "execution_count": 11,
     "metadata": {},
     "output_type": "execute_result"
    }
   ],
   "source": [
    "movie_name"
   ]
  },
  {
   "cell_type": "code",
   "execution_count": 15,
   "id": "4bc3dbe5-471e-43d6-9980-14b2f2e62497",
   "metadata": {},
   "outputs": [
    {
     "data": {
      "text/plain": [
       "'BatMan'"
      ]
     },
     "execution_count": 15,
     "metadata": {},
     "output_type": "execute_result"
    }
   ],
   "source": [
    "# a variable is a temporary storage space\n",
    "movie_name=\"BatMan\"\n",
    "movie_name"
   ]
  },
  {
   "cell_type": "code",
   "execution_count": 17,
   "id": "ac832965-a794-4720-8279-0058c7223f6d",
   "metadata": {},
   "outputs": [],
   "source": [
    "# way to address variable\n",
    "_2=0\n",
    "hello = 2\n",
    "a = 90"
   ]
  },
  {
   "cell_type": "code",
   "execution_count": 19,
   "id": "befcf33a-2dd2-472e-836a-91cd13d0f396",
   "metadata": {},
   "outputs": [
    {
     "name": "stdout",
     "output_type": "stream",
     "text": [
      "10\n"
     ]
    }
   ],
   "source": [
    "#built in functions \n",
    "A = 10\n",
    "print(A) #THIS FUNCTION IS DISPLAY THE STORED VALUE IN VARIABLE"
   ]
  },
  {
   "cell_type": "code",
   "execution_count": 3,
   "id": "3191a933-f4e5-4f42-a514-6021f221e499",
   "metadata": {},
   "outputs": [
    {
     "name": "stdout",
     "output_type": "stream",
     "text": [
      "5 is greater than 2\n"
     ]
    }
   ],
   "source": [
    "if 5>2 : # condition \n",
    "    print(\"5 is greater than 2\")"
   ]
  },
  {
   "cell_type": "code",
   "execution_count": 7,
   "id": "2dd7459b-3887-472e-9284-6c8dd7e0bb04",
   "metadata": {},
   "outputs": [
    {
     "name": "stdout",
     "output_type": "stream",
     "text": [
      "5\n",
      "python\n"
     ]
    }
   ],
   "source": [
    "# value assignment to the variable and display statement\n",
    "x = 5 # integer type data\n",
    "y = \"python\" #sting type data\n",
    "print(x)\n",
    "print(y)"
   ]
  },
  {
   "cell_type": "code",
   "execution_count": 21,
   "id": "9b6630d7-995f-4490-94a4-e8a1ddc29122",
   "metadata": {},
   "outputs": [
    {
     "data": {
      "text/plain": [
       "float"
      ]
     },
     "execution_count": 21,
     "metadata": {},
     "output_type": "execute_result"
    }
   ],
   "source": [
    "#TYPE() it will tell the data type of the value stored in variable\n",
    "a = 23.99\n",
    "type(a)"
   ]
  },
  {
   "cell_type": "code",
   "execution_count": 27,
   "id": "e664cfbd-de1f-4c10-b740-1c3b59e0a855",
   "metadata": {},
   "outputs": [
    {
     "data": {
      "text/plain": [
       "complex"
      ]
     },
     "execution_count": 27,
     "metadata": {},
     "output_type": "execute_result"
    }
   ],
   "source": [
    "#simiplarly \n",
    "b=23\n",
    "c=\"23\"\n",
    "d=True\n",
    "e=3+5j\n",
    "type(b)\n",
    "type(c)\n",
    "type(d)# here type () will not work boz it will only work only when its in last of the code block \n",
    "type(e)# in this case use print statement\n",
    "    "
   ]
  },
  {
   "cell_type": "code",
   "execution_count": 25,
   "id": "0c935d1a-faba-4eb5-8e72-390051b37532",
   "metadata": {},
   "outputs": [
    {
     "name": "stdout",
     "output_type": "stream",
     "text": [
      "<class 'float'>\n",
      "<class 'int'>\n",
      "<class 'str'>\n"
     ]
    }
   ],
   "source": [
    "b=23\n",
    "c=\"23\"\n",
    "d=True\n",
    "type(b)\n",
    "type(c)\n",
    "type(d)\n",
    "print(type(a))\n",
    "print(type(b))\n",
    "print(type(c))"
   ]
  },
  {
   "cell_type": "code",
   "execution_count": 29,
   "id": "e2c3fe5d-5ecd-41e5-be12-6a61388264e8",
   "metadata": {},
   "outputs": [
    {
     "name": "stdin",
     "output_type": "stream",
     "text": [
      "enter the value \"I'm IRON MAN\"\n"
     ]
    }
   ],
   "source": [
    "w=input(\"enter the statement\") # tis one of the three basic built in function , to get user input\n"
   ]
  },
  {
   "cell_type": "code",
   "execution_count": 33,
   "id": "b609963e-f0a8-4878-bdcb-a249018432a0",
   "metadata": {},
   "outputs": [
    {
     "name": "stdin",
     "output_type": "stream",
     "text": [
      "enter the value 45\n"
     ]
    },
    {
     "name": "stdout",
     "output_type": "stream",
     "text": [
      "<class 'str'>\n",
      "<class 'int'>\n"
     ]
    }
   ],
   "source": [
    "#to change one type of input data into another datatype use type casting\n",
    "a=input(\"enter the value\")\n",
    "print(type(a))\n",
    "a=int(a)\n",
    "print(type(a))# this how we change datatype after input() "
   ]
  },
  {
   "cell_type": "markdown",
   "id": "8209503c-36f5-43f3-aeef-31e387dda631",
   "metadata": {},
   "source": [
    "# __ ARTHIMATIC OPERATIONS __\n",
    "  __ + , - , / , * , // , % ,** __\n",
    "  +  Addition <br>\n",
    "  -  subraction<br>\n",
    "  > / - division , gives the output for 10/2=5 <br>\n",
    "  > % - modulus , gives the output for 5%2=1 which is the remainder <br>\n",
    "  > // - floor division , if 15//2 = 7 (ans is 7.5 , this rounds the value to the nearest whole no.)  <br>\n",
    "  > ** - power of <br>"
   ]
  },
  {
   "cell_type": "code",
   "execution_count": 38,
   "id": "0f7f2c59-46f5-4372-b2c2-18fc1e1a1d34",
   "metadata": {},
   "outputs": [
    {
     "name": "stdout",
     "output_type": "stream",
     "text": [
      "21\n"
     ]
    }
   ],
   "source": [
    "A=12\n",
    "a=A+9\n",
    "print(a)"
   ]
  },
  {
   "cell_type": "code",
   "execution_count": 40,
   "id": "a014e338-79bc-45b5-b938-a19e5fe0ce2a",
   "metadata": {},
   "outputs": [
    {
     "name": "stdout",
     "output_type": "stream",
     "text": [
      "-2.1999999999999993\n"
     ]
    }
   ],
   "source": [
    "B=12.8\n",
    "b=B-15\n",
    "print(b)"
   ]
  },
  {
   "cell_type": "code",
   "execution_count": 42,
   "id": "670689d5-4463-4a17-acc3-8dbc201223d5",
   "metadata": {},
   "outputs": [
    {
     "name": "stdout",
     "output_type": "stream",
     "text": [
      "15.333333333333334\n"
     ]
    }
   ],
   "source": [
    "C=46\n",
    "c=C/3\n",
    "print(c)"
   ]
  },
  {
   "cell_type": "code",
   "execution_count": 53,
   "id": "5adaea2a-57ce-4f91-98b0-c3328efa7f64",
   "metadata": {},
   "outputs": [
    {
     "name": "stdout",
     "output_type": "stream",
     "text": [
      "15\n"
     ]
    }
   ],
   "source": [
    "c=46//3\n",
    "print(c)"
   ]
  },
  {
   "cell_type": "code",
   "execution_count": 44,
   "id": "d8120752-1c8e-401c-8ed8-7af56abbba3b",
   "metadata": {},
   "outputs": [
    {
     "name": "stdout",
     "output_type": "stream",
     "text": [
      "2\n"
     ]
    }
   ],
   "source": [
    "D=78\n",
    "d=d*2\n",
    "print(d)"
   ]
  },
  {
   "cell_type": "code",
   "execution_count": 49,
   "id": "77707f4a-8de3-4058-ba98-9822612f5757",
   "metadata": {},
   "outputs": [
    {
     "name": "stdout",
     "output_type": "stream",
     "text": [
      "25\n"
     ]
    }
   ],
   "source": [
    "a=5\n",
    "a=a**2\n",
    "print(a)"
   ]
  },
  {
   "cell_type": "code",
   "execution_count": 61,
   "id": "550c8a2c-057f-4403-ba97-55690878655c",
   "metadata": {},
   "outputs": [
    {
     "name": "stdout",
     "output_type": "stream",
     "text": [
      "37\n"
     ]
    }
   ],
   "source": [
    " #shorthand\n",
    "e=35\n",
    "e+=2\n",
    "print(e)"
   ]
  },
  {
   "cell_type": "code",
   "execution_count": 59,
   "id": "c30b177b-cc08-4db0-88d9-fea40bcf5ef6",
   "metadata": {},
   "outputs": [
    {
     "name": "stdout",
     "output_type": "stream",
     "text": [
      "32\n"
     ]
    }
   ],
   "source": [
    "\n",
    "e=35\n",
    "e-=3\n",
    "print(e)"
   ]
  },
  {
   "cell_type": "code",
   "execution_count": 63,
   "id": "0711a2c7-5866-4bc1-837e-09d241406ffb",
   "metadata": {},
   "outputs": [
    {
     "name": "stdout",
     "output_type": "stream",
     "text": [
      "11.666666666666666\n"
     ]
    }
   ],
   "source": [
    "e=35\n",
    "e/=3\n",
    "print(e)"
   ]
  },
  {
   "cell_type": "code",
   "execution_count": 65,
   "id": "2ce0bfc9-2e28-45a1-93b2-8683abd36930",
   "metadata": {},
   "outputs": [
    {
     "name": "stdout",
     "output_type": "stream",
     "text": [
      "11\n"
     ]
    }
   ],
   "source": [
    "e=35\n",
    "e//=3\n",
    "print(e)"
   ]
  },
  {
   "cell_type": "code",
   "execution_count": 67,
   "id": "be7e4f23-9f7c-4806-a624-27c210f81796",
   "metadata": {},
   "outputs": [
    {
     "name": "stdout",
     "output_type": "stream",
     "text": [
      "42875\n"
     ]
    }
   ],
   "source": [
    "e=35\n",
    "e**=3\n",
    "print(e)"
   ]
  },
  {
   "cell_type": "code",
   "execution_count": null,
   "id": "7fdcf3f2-84cf-41bd-9024-fd21114043a9",
   "metadata": {},
   "outputs": [],
   "source": []
  },
  {
   "cell_type": "markdown",
   "id": "194bb8ef-6b75-45e4-bd9f-9f5d7637c8bb",
   "metadata": {},
   "source": [
    "# COMPARISION OPERATIONS (relational operators)<BR>\n",
    "__<,>,<=,>=,!=,==__ <BR>\n",
    "- <  less than <br>\n",
    "- > (>) greater than <br>\n",
    "- <= lesser than or equal to <br>\n",
    "- > (>=) greater than or equal to <br>\n",
    "- == checking the condition <br>\n",
    "- != not equal to <br>"
   ]
  },
  {
   "cell_type": "code",
   "execution_count": 70,
   "id": "f979bd6e-a49a-484c-8b04-072d2ec09781",
   "metadata": {},
   "outputs": [],
   "source": [
    "#comparision operators will return the values in either True or False [boolean values]\n",
    "a=20\n",
    "b=34\n"
   ]
  },
  {
   "cell_type": "code",
   "execution_count": 72,
   "id": "07dc581d-1b1f-48c6-8451-74e19135c5ef",
   "metadata": {},
   "outputs": [
    {
     "data": {
      "text/plain": [
       "False"
      ]
     },
     "execution_count": 72,
     "metadata": {},
     "output_type": "execute_result"
    }
   ],
   "source": [
    "a==b"
   ]
  },
  {
   "cell_type": "code",
   "execution_count": 76,
   "id": "d8b55dd5-ae4a-4d03-b9c1-d843dc80c1a5",
   "metadata": {},
   "outputs": [
    {
     "data": {
      "text/plain": [
       "True"
      ]
     },
     "execution_count": 76,
     "metadata": {},
     "output_type": "execute_result"
    }
   ],
   "source": [
    "a!=b"
   ]
  },
  {
   "cell_type": "code",
   "execution_count": 78,
   "id": "dea2ba55-6920-4d1f-9aab-656f4ce30f3e",
   "metadata": {},
   "outputs": [
    {
     "data": {
      "text/plain": [
       "True"
      ]
     },
     "execution_count": 78,
     "metadata": {},
     "output_type": "execute_result"
    }
   ],
   "source": [
    "a<b\n"
   ]
  },
  {
   "cell_type": "code",
   "execution_count": 80,
   "id": "728d4135-9c3c-41ef-9e62-774571e42c9e",
   "metadata": {},
   "outputs": [
    {
     "data": {
      "text/plain": [
       "False"
      ]
     },
     "execution_count": 80,
     "metadata": {},
     "output_type": "execute_result"
    }
   ],
   "source": [
    "a>b"
   ]
  },
  {
   "cell_type": "code",
   "execution_count": 82,
   "id": "d953ef76-f823-4857-9a95-673da76698fc",
   "metadata": {},
   "outputs": [
    {
     "data": {
      "text/plain": [
       "True"
      ]
     },
     "execution_count": 82,
     "metadata": {},
     "output_type": "execute_result"
    }
   ],
   "source": [
    "a<=b"
   ]
  },
  {
   "cell_type": "code",
   "execution_count": 84,
   "id": "83cf91ad-3819-45d5-97ad-9e0ce9dd07d8",
   "metadata": {},
   "outputs": [
    {
     "data": {
      "text/plain": [
       "False"
      ]
     },
     "execution_count": 84,
     "metadata": {},
     "output_type": "execute_result"
    }
   ],
   "source": [
    "a>=b"
   ]
  },
  {
   "cell_type": "markdown",
   "id": "d7d3b1e8-7451-48b0-a22c-6e03f580f83f",
   "metadata": {},
   "source": [
    "# logical operators <br>\n",
    "- and <br>\n",
    "- or  <br>\n",
    "- not <br>"
   ]
  },
  {
   "cell_type": "code",
   "execution_count": 89,
   "id": "96b30c63-1705-4505-9faf-0a727d42f15c",
   "metadata": {},
   "outputs": [],
   "source": [
    "a = 45\n",
    "b = 56"
   ]
  },
  {
   "cell_type": "code",
   "execution_count": 91,
   "id": "37cacd44-cf7a-4eb1-b8d2-a8013c4a8f4a",
   "metadata": {},
   "outputs": [
    {
     "data": {
      "text/plain": [
       "True"
      ]
     },
     "execution_count": 91,
     "metadata": {},
     "output_type": "execute_result"
    }
   ],
   "source": [
    "# for and operator both the conditions should be true \n",
    "a<b and a!=b"
   ]
  },
  {
   "cell_type": "code",
   "execution_count": 93,
   "id": "7a13e682-8f53-411a-ac08-806ecb9091df",
   "metadata": {},
   "outputs": [
    {
     "data": {
      "text/plain": [
       "False"
      ]
     },
     "execution_count": 93,
     "metadata": {},
     "output_type": "execute_result"
    }
   ],
   "source": [
    "a>b and a!=b"
   ]
  },
  {
   "cell_type": "code",
   "execution_count": 99,
   "id": "5dbb90d3-7d7a-4902-8171-4d78af79c3db",
   "metadata": {},
   "outputs": [
    {
     "data": {
      "text/plain": [
       "True"
      ]
     },
     "execution_count": 99,
     "metadata": {},
     "output_type": "execute_result"
    }
   ],
   "source": [
    "# for or operator any one of the condition should be true \n",
    "a<b or a==b"
   ]
  },
  {
   "cell_type": "code",
   "execution_count": 97,
   "id": "01e0372a-88e4-477a-a436-bd7639aa50e4",
   "metadata": {},
   "outputs": [
    {
     "data": {
      "text/plain": [
       "False"
      ]
     },
     "execution_count": 97,
     "metadata": {},
     "output_type": "execute_result"
    }
   ],
   "source": [
    "a>b or a==b"
   ]
  },
  {
   "cell_type": "markdown",
   "id": "9551a53a-d990-4351-9418-5386cd5ab043",
   "metadata": {},
   "source": [
    "# BITWISE OPERATOR <BR>\n",
    "- &_and<BR>\n",
    "- |_or<BR>\n",
    "- ^_xor <BR>\n",
    "- <<_left shift operator  <BR>\n",
    "- (>>) right shift operator<br>\n",
    "- ~_negation operator<br>"
   ]
  },
  {
   "cell_type": "code",
   "execution_count": 113,
   "id": "e7adfd84-a46e-4357-87b8-d9c704d774e6",
   "metadata": {},
   "outputs": [
    {
     "name": "stdout",
     "output_type": "stream",
     "text": [
      "0\n"
     ]
    }
   ],
   "source": [
    "a=10\n",
    "b=20\n",
    "#a&b , gives result in binary value\n",
    "print(a&b)"
   ]
  },
  {
   "cell_type": "code",
   "execution_count": 115,
   "id": "b84dc11a-4d8f-4a89-9e5b-003972685ba4",
   "metadata": {},
   "outputs": [
    {
     "name": "stdout",
     "output_type": "stream",
     "text": [
      "16\n"
     ]
    }
   ],
   "source": [
    "a=17\n",
    "b=24\n",
    "#a&b , gives result in binary value and then into decimal value\n",
    "print(a&b)"
   ]
  },
  {
   "cell_type": "code",
   "execution_count": 117,
   "id": "90029934-39aa-4726-9b8b-39894ed0782c",
   "metadata": {},
   "outputs": [
    {
     "name": "stdout",
     "output_type": "stream",
     "text": [
      "The value of a is 34 and The value of b is  46\n",
      "34\n",
      "46\n",
      "12\n"
     ]
    }
   ],
   "source": [
    "a=34\n",
    "b=46\n",
    "print(\"The value of a is\", a ,\"and The value of b is \",b)\n",
    "print(a&b)\n",
    "print(a|b)\n",
    "print(a^b)#gives result in binary value and then into decimal value"
   ]
  },
  {
   "cell_type": "code",
   "execution_count": 121,
   "id": "f3f5c787-4a81-42e2-8908-e5c621a8af20",
   "metadata": {},
   "outputs": [
    {
     "name": "stdout",
     "output_type": "stream",
     "text": [
      "-13\n"
     ]
    }
   ],
   "source": [
    "#~ \n",
    "print(~12)\n"
   ]
  },
  {
   "cell_type": "code",
   "execution_count": 123,
   "id": "44a680ae-0ec4-463f-98b3-b8796e575786",
   "metadata": {},
   "outputs": [
    {
     "name": "stdout",
     "output_type": "stream",
     "text": [
      "712\n"
     ]
    }
   ],
   "source": [
    "a=89\n",
    "print(a<<3)"
   ]
  },
  {
   "cell_type": "code",
   "execution_count": 125,
   "id": "bc754913-b4a7-46b9-b1ae-31ab2d28b61b",
   "metadata": {},
   "outputs": [
    {
     "name": "stdout",
     "output_type": "stream",
     "text": [
      "12\n"
     ]
    }
   ],
   "source": [
    "b=98\n",
    "print(b>>3)"
   ]
  },
  {
   "cell_type": "code",
   "execution_count": 127,
   "id": "d95595be-415a-4ebc-ae7e-3091cd716346",
   "metadata": {},
   "outputs": [
    {
     "name": "stdout",
     "output_type": "stream",
     "text": [
      "True\n",
      "True\n"
     ]
    }
   ],
   "source": [
    "#member ship operator\n",
    "string=\"today is a goodday\"\n",
    "print(\"today\" in string)\n",
    "print(\"monday\" not in string)\n",
    "# this returns result in boolean datatype"
   ]
  },
  {
   "cell_type": "raw",
   "id": "abcfed80-dd3a-4172-bee1-736aee5bd9b6",
   "metadata": {},
   "source": [
    "Write a Python program to print the following pattern:\n",
    " *\n",
    " * *\n",
    " * * *\n",
    " * * * * \n",
    " * * * * * "
   ]
  },
  {
   "cell_type": "code",
   "execution_count": 174,
   "id": "c3447ecb-3b4e-451b-afc3-e9b19a09c1e7",
   "metadata": {},
   "outputs": [
    {
     "name": "stdout",
     "output_type": "stream",
     "text": [
      "*\n",
      "* *\n",
      "* * *\n",
      "* * * *\n",
      "* * * * *\n"
     ]
    }
   ],
   "source": [
    "# method 1) using print function\n",
    "p1=\"*\"\n",
    "p2= \"* *\"\n",
    "p3= \"* * *\"\n",
    "p4= \"* * * *\"\n",
    "p5= \"* * * * *\"\n",
    "print(p1)\n",
    "print(p2)\n",
    "print(p3)\n",
    "print(p4)\n",
    "print(p5)"
   ]
  },
  {
   "cell_type": "code",
   "execution_count": 187,
   "id": "79aab147-12eb-409f-9a6d-dda702a50056",
   "metadata": {},
   "outputs": [
    {
     "name": "stdout",
     "output_type": "stream",
     "text": [
      "*\n",
      "* *\n",
      "* *\n",
      "*\n",
      "* * *\n",
      "*\n",
      "* *\n",
      "* *\n",
      "*\n"
     ]
    }
   ],
   "source": [
    "# method 1)\n",
    "p1=\"*\"\n",
    "p2= \"* *\"\n",
    "p3= \"* * *\"\n",
    "\n",
    "print(p1)\n",
    "print(p2)\n",
    "print(p2)\n",
    "print(p1)\n",
    "print(p3)\n",
    "print(p1)\n",
    "print(p2)\n",
    "print(p2)\n",
    "print(p1)"
   ]
  },
  {
   "cell_type": "code",
   "execution_count": 209,
   "id": "21da8e2a-2270-4fdb-bedc-40818020ffbb",
   "metadata": {},
   "outputs": [
    {
     "data": {
      "text/plain": [
       "'Malayalam'"
      ]
     },
     "execution_count": 209,
     "metadata": {},
     "output_type": "execute_result"
    }
   ],
   "source": [
    "a='Malayalam'\n",
    "a[-9:9] #"
   ]
  },
  {
   "cell_type": "code",
   "execution_count": 211,
   "id": "6e7d569d-4f0c-4372-9d28-adb260df51c1",
   "metadata": {},
   "outputs": [
    {
     "data": {
      "text/plain": [
       "'malayalaM '"
      ]
     },
     "execution_count": 211,
     "metadata": {},
     "output_type": "execute_result"
    }
   ],
   "source": [
    "a=' Malayalam'\n",
    "a[: :-1]"
   ]
  },
  {
   "cell_type": "code",
   "execution_count": 213,
   "id": "1f2af21c-0fd6-4b2e-ad44-2bc8d875a8c6",
   "metadata": {},
   "outputs": [
    {
     "data": {
      "text/plain": [
       "'coimbatore'"
      ]
     },
     "execution_count": 213,
     "metadata": {},
     "output_type": "execute_result"
    }
   ],
   "source": [
    "b='coimbatore'\n",
    "b[0:11]\n"
   ]
  },
  {
   "cell_type": "code",
   "execution_count": 215,
   "id": "b4bd3fde-37ac-4cb2-b1b7-78def1bb16b4",
   "metadata": {},
   "outputs": [
    {
     "data": {
      "text/plain": [
       "'olleh'"
      ]
     },
     "execution_count": 215,
     "metadata": {},
     "output_type": "execute_result"
    }
   ],
   "source": [
    "c=' hello'\n",
    "c[5:0:-1]"
   ]
  }
 ],
 "metadata": {
  "kernelspec": {
   "display_name": "Python 3 (ipykernel)",
   "language": "python",
   "name": "python3"
  },
  "language_info": {
   "codemirror_mode": {
    "name": "ipython",
    "version": 3
   },
   "file_extension": ".py",
   "mimetype": "text/x-python",
   "name": "python",
   "nbconvert_exporter": "python",
   "pygments_lexer": "ipython3",
   "version": "3.12.4"
  }
 },
 "nbformat": 4,
 "nbformat_minor": 5
}
